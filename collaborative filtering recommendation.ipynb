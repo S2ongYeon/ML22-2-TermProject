{
 "cells": [
  {
   "cell_type": "code",
   "execution_count": null,
   "id": "89f36609",
   "metadata": {},
   "outputs": [],
   "source": [
    "import pandas as pd\n",
    "import numpy as np\n",
    "import scipy as sp\n",
    "from sklearn.metrics.pairwise import cosine_similarity\n",
    "import operator"
   ]
  },
  {
   "cell_type": "code",
   "execution_count": null,
   "id": "f96e4860",
   "metadata": {},
   "outputs": [],
   "source": [
    "# This function will return the top 10 shows with the highest cosine similarity value\n",
    "def top_factors(item_sim_df, factor_name):\n",
    "    count = 1\n",
    "    print('Similar shows to {} include:\\n'.format(factor_name))\n",
    "    result = item_sim_df.loc[~item_sim_df.index.isin([factor_name]), factor_name].sort_values(ascending = False)[:10]\n",
    "    for item, score in result.items():\n",
    "        print('No. {}: {}({:.2f})'.format(count, item , score))\n",
    "        count +=1"
   ]
  },
  {
   "cell_type": "code",
   "execution_count": null,
   "id": "580e1ae1",
   "metadata": {},
   "outputs": [],
   "source": [
    "# This function will return the top 5 crops with the highest similarity value \n",
    "def top_crops(user_sim_df, crop):\n",
    "    if crop not in piv_norm.columns:\n",
    "        return('No data available on crop {}'.format(crop))\n",
    "    print('Most Similar crops:\\n')\n",
    "    result = user_sim_df.sort_values(by=crop, ascending=False).loc[:,crop][1:11]\n",
    "    for crop, sim in result.items():\n",
    "        print('crop #{0}, Similarity value: {1:.2f}'.format(crop, sim))"
   ]
  },
  {
   "cell_type": "code",
   "execution_count": null,
   "id": "c0702c9f",
   "metadata": {},
   "outputs": [],
   "source": [
    "# This function constructs a list of lists containing the highest rated shows per similar user\n",
    "# and returns the name of the show along with the frequency it appears in the list\n",
    "def similar_user_recs(user_sim_df, user):\n",
    "    if user not in piv_norm.columns:\n",
    "        return('No data available on user {}'.format(user))\n",
    "\n",
    "    sim_users = user_sim_df.sort_values(by=user, ascending=False).index[1:11] \n",
    "    best = []\n",
    "    most_common = {}\n",
    "\n",
    "    for i in sim_users:\n",
    "        result_sorted = piv_norm.loc[:, i].sort_values(ascending = False)\n",
    "        best.append(result_sorted.index[:5].tolist())\n",
    "    for i in range(len(best)):\n",
    "        for j in best[i]:\n",
    "            if j in most_common:\n",
    "                most_common[j] += 1\n",
    "            else:\n",
    "                most_common[j] = 1\n",
    "    sorted_list = sorted(most_common.items(), key=operator.itemgetter(1), reverse=True)\n",
    "    return sorted_list[:5]   \n"
   ]
  },
  {
   "cell_type": "code",
   "execution_count": null,
   "id": "b5555cd6",
   "metadata": {},
   "outputs": [],
   "source": [
    "# Main function for collaborative filtering based recommendation system\n",
    "def recommendation_collaborative(dataframe):\n",
    "    crop = dataframe\n",
    "    \n",
    "    crops_label = crop['label'].unique().tolist()\n",
    "\n",
    "    columns = crop.columns.tolist()\n",
    "    columns.pop()\n",
    "    sub_columns = columns.copy()\n",
    "    columns.insert(0,'crop')\n",
    "\n",
    "\n",
    "    big_list = []\n",
    "    for index,i in enumerate(crops_label):\n",
    "        big_list.append([0 for _ in range(8)])\n",
    "        big_list[index][0] = i\n",
    "        for inner_index, n in enumerate(columns[1:]):\n",
    "            big_list[index][inner_index+1] = crop[crop['label']==i][n].mean()\n",
    "\n",
    "    separate_list= []\n",
    "    for index, i in enumerate(big_list):\n",
    "        for n in sub_columns:\n",
    "            temp_list = [0 for _ in range(3)]\n",
    "            temp_list[0] = i[0]\n",
    "            temp_list[1] = n\n",
    "            temp_list[2] = crop[crop['label']==i[0]][n].mean()\n",
    "            separate_list.append(temp_list)\n",
    "\n",
    "    df = pd.DataFrame(separate_list, columns=['crop','factors','value'])\n",
    "    piv = df.pivot_table(index=['crop'], columns=['factors'], values='value')\n",
    "\n",
    "    # Normalize the values\n",
    "    piv_norm = piv.apply(lambda x: (x-np.mean(x))/(np.max(x)-np.min(x)), axis=1) # min-max scaling \n",
    "    piv_norm = piv_norm.T\n",
    "    piv_norm = piv_norm.loc[:, (piv_norm != 0).any(axis=0)]\n",
    "\n",
    "    # Our data needs to be in a sparse matrix format to be read by the following functions\n",
    "    piv_sparse = sp.sparse.csr_matrix(piv_norm.values)\n",
    "\n",
    "    item_similarity = cosine_similarity(piv_sparse)\n",
    "    user_similarity = cosine_similarity(piv_sparse.T)\n",
    "\n",
    "    item_sim_df = pd.DataFrame(item_similarity, index = piv_norm.index, columns = piv_norm.index)\n",
    "    user_sim_df = pd.DataFrame(user_similarity, index = piv_norm.columns, columns = piv_norm.columns)\n",
    "\n",
    "    return item_sim_df, user_sim_df, piv_norm"
   ]
  },
  {
   "cell_type": "code",
   "execution_count": null,
   "id": "bbc01cd0",
   "metadata": {},
   "outputs": [],
   "source": [
    "# MAIN #\n",
    "crop = pd.read_csv('Crop_recommendation.csv')\n",
    "factor_sim_df, crop_sim_df, piv_norm = recommendation_collaborative(crop)"
   ]
  },
  {
   "cell_type": "code",
   "execution_count": null,
   "id": "bd13e573",
   "metadata": {},
   "outputs": [],
   "source": [
    "# Function Example\n",
    "top_factors(factor_sim_df, 'rainfall') #ex.N,K,P,rainfall\n",
    "print()\n",
    "top_crops(crop_sim_df, 'apple') #ex.rice,apple,jute\n",
    "# print(similar_user_recs(crop_sim_df, 'coffee')) #ex. rice,apple,jute"
   ]
  }
 ],
 "metadata": {
  "kernelspec": {
   "display_name": "Python 3 (ipykernel)",
   "language": "python",
   "name": "python3"
  },
  "language_info": {
   "codemirror_mode": {
    "name": "ipython",
    "version": 3
   },
   "file_extension": ".py",
   "mimetype": "text/x-python",
   "name": "python",
   "nbconvert_exporter": "python",
   "pygments_lexer": "ipython3",
   "version": "3.10.8"
  }
 },
 "nbformat": 4,
 "nbformat_minor": 5
}
